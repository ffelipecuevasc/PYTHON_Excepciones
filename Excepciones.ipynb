{
 "cells": [
  {
   "metadata": {},
   "cell_type": "markdown",
   "source": "INTRODUCCIÓN A EXCEPCIONES",
   "id": "9e79f55530234497"
  },
  {
   "metadata": {},
   "cell_type": "code",
   "outputs": [],
   "source": [
    "resultado = 10/0\n",
    "resultado"
   ],
   "id": "initial_id",
   "execution_count": null
  },
  {
   "metadata": {},
   "cell_type": "markdown",
   "source": "MANEJO DE EXCEPCIONES PERSONALIZADO",
   "id": "8a11b278d29a45ce"
  },
  {
   "metadata": {},
   "cell_type": "code",
   "outputs": [],
   "execution_count": null,
   "source": [
    "class ErrorDeValidacion(Exception):\n",
    "    \"\"\"Excepción personalizada para errores de validación.\"\"\"\n",
    "    def __init__(self, mensaje, campo):\n",
    "        self.mensaje = mensaje\n",
    "        self.campo = campo\n",
    "        super().__init__(f\"Error en {campo}: {mensaje}\")\n",
    "\n",
    "# Uso de la excepción personalizada\n",
    "def validar_edad(edad):\n",
    "    if edad < 0:\n",
    "        raise ErrorDeValidacion(\"La edad no puede ser negativa\", \"edad\")\n",
    "    elif edad > 120:\n",
    "        raise ErrorDeValidacion(\"La edad es irreal\", \"edad\")\n",
    "    else:\n",
    "        print(f\"Edad válida: {edad}\")\n",
    "\n",
    "try:\n",
    "    validar_edad(-5)\n",
    "except ErrorDeValidacion as e:\n",
    "    print(e)\n"
   ],
   "id": "723a9da4f950f573"
  },
  {
   "metadata": {},
   "cell_type": "markdown",
   "source": "ESTRUCTURA 'FINALLY' EN EL MANEJO DE EXCEPCIONES",
   "id": "c95125b0d3990a40"
  },
  {
   "metadata": {},
   "cell_type": "code",
   "outputs": [],
   "execution_count": null,
   "source": [
    "try:\n",
    "    archivo = open('datos.txt', 'r')\n",
    "    contenido = archivo.read()\n",
    "except FileNotFoundError as e:\n",
    "    print(\"Error: El archivo no existe.\")\n",
    "except Exception as e:\n",
    "    print(f\"Error inesperado: {e}\")\n",
    "else:\n",
    "    print(\"Archivo leído exitosamente.\")\n",
    "    print(contenido)\n",
    "finally:\n",
    "    if 'archivo' in locals():\n",
    "        archivo.close()\n",
    "    print(\"Archivo cerrado.\")"
   ],
   "id": "87c68bfffa984565"
  },
  {
   "metadata": {},
   "cell_type": "markdown",
   "source": "PROPAGACIÓN DE EXCEPCIONES",
   "id": "774e5d07605e9b6f"
  },
  {
   "metadata": {
    "ExecuteTime": {
     "end_time": "2025-06-13T21:52:14.358858Z",
     "start_time": "2025-06-13T21:52:14.333016Z"
    }
   },
   "cell_type": "code",
   "source": [
    "def funcion1():\n",
    "    funcion2()\n",
    "\n",
    "def funcion2():\n",
    "    funcion3()\n",
    "\n",
    "def funcion3():\n",
    "    raise ValueError(\"Error en funcion3\")\n",
    "\n",
    "try:\n",
    "    funcion1()\n",
    "except ValueError as e:\n",
    "    print(f\"Excepción capturada: {e}\")\n"
   ],
   "id": "a32a5179d17ab301",
   "outputs": [
    {
     "name": "stdout",
     "output_type": "stream",
     "text": [
      "Excepción capturada: Error en funcion3\n"
     ]
    }
   ],
   "execution_count": 1
  }
 ],
 "metadata": {
  "kernelspec": {
   "display_name": "Python [conda env:base] *",
   "language": "python",
   "name": "conda-base-py"
  },
  "language_info": {
   "codemirror_mode": {
    "name": "ipython",
    "version": 2
   },
   "file_extension": ".py",
   "mimetype": "text/x-python",
   "name": "python",
   "nbconvert_exporter": "python",
   "pygments_lexer": "ipython2",
   "version": "2.7.6"
  }
 },
 "nbformat": 4,
 "nbformat_minor": 5
}
